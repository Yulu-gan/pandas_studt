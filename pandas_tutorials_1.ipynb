{
 "cells": [
  {
   "cell_type": "code",
   "execution_count": 88,
   "metadata": {},
   "outputs": [
    {
     "name": "stdout",
     "output_type": "stream",
     "text": [
      "0    1\n",
      "1    3\n",
      "2    4\n",
      "3    5\n",
      "4    6\n",
      "dtype: int64\n",
      "/Users/mac\n"
     ]
    }
   ],
   "source": [
    "import pandas as pd\n",
    "a = pd.Series([1,3,4,5,6])\n",
    "print(a)\n",
    "import os\n",
    "print(os.path.abspath('.'))"
   ]
  },
  {
   "cell_type": "code",
   "execution_count": 24,
   "metadata": {},
   "outputs": [
    {
     "data": {
      "text/plain": [
       "DatetimeIndex(['2016-03-01', '2016-03-02', '2016-03-03', '2016-03-04',\n",
       "               '2016-03-05', '2016-03-06'],\n",
       "              dtype='datetime64[ns]', freq='D')"
      ]
     },
     "execution_count": 24,
     "metadata": {},
     "output_type": "execute_result"
    }
   ],
   "source": [
    "datas_1 = pd.date_range(start ='20160301',end = '20160306')\n",
    "datas = pd.date_range(start ='20160301',periods = 6)\n",
    "datas_1"
   ]
  },
  {
   "cell_type": "code",
   "execution_count": 48,
   "metadata": {},
   "outputs": [
    {
     "data": {
      "text/html": [
       "<div>\n",
       "<style scoped>\n",
       "    .dataframe tbody tr th:only-of-type {\n",
       "        vertical-align: middle;\n",
       "    }\n",
       "\n",
       "    .dataframe tbody tr th {\n",
       "        vertical-align: top;\n",
       "    }\n",
       "\n",
       "    .dataframe thead th {\n",
       "        text-align: right;\n",
       "    }\n",
       "</style>\n",
       "<table border=\"1\" class=\"dataframe\">\n",
       "  <thead>\n",
       "    <tr style=\"text-align: right;\">\n",
       "      <th></th>\n",
       "      <th>A</th>\n",
       "      <th>B</th>\n",
       "      <th>C</th>\n",
       "      <th>D</th>\n",
       "    </tr>\n",
       "  </thead>\n",
       "  <tbody>\n",
       "    <tr>\n",
       "      <th>2016-03-01</th>\n",
       "      <td>-0.271952</td>\n",
       "      <td>-1.217686</td>\n",
       "      <td>-0.037302</td>\n",
       "      <td>-0.179983</td>\n",
       "    </tr>\n",
       "    <tr>\n",
       "      <th>2016-03-02</th>\n",
       "      <td>-1.803772</td>\n",
       "      <td>0.689236</td>\n",
       "      <td>-2.532408</td>\n",
       "      <td>-0.819420</td>\n",
       "    </tr>\n",
       "    <tr>\n",
       "      <th>2016-03-03</th>\n",
       "      <td>-0.596284</td>\n",
       "      <td>0.747474</td>\n",
       "      <td>-2.169957</td>\n",
       "      <td>0.173793</td>\n",
       "    </tr>\n",
       "    <tr>\n",
       "      <th>2016-03-04</th>\n",
       "      <td>0.349248</td>\n",
       "      <td>-1.013605</td>\n",
       "      <td>0.963074</td>\n",
       "      <td>-0.306067</td>\n",
       "    </tr>\n",
       "    <tr>\n",
       "      <th>2016-03-05</th>\n",
       "      <td>0.981165</td>\n",
       "      <td>0.348213</td>\n",
       "      <td>0.011119</td>\n",
       "      <td>0.721957</td>\n",
       "    </tr>\n",
       "    <tr>\n",
       "      <th>2016-03-06</th>\n",
       "      <td>-0.576315</td>\n",
       "      <td>1.312909</td>\n",
       "      <td>-0.407155</td>\n",
       "      <td>0.793780</td>\n",
       "    </tr>\n",
       "  </tbody>\n",
       "</table>\n",
       "</div>"
      ],
      "text/plain": [
       "                   A         B         C         D\n",
       "2016-03-01 -0.271952 -1.217686 -0.037302 -0.179983\n",
       "2016-03-02 -1.803772  0.689236 -2.532408 -0.819420\n",
       "2016-03-03 -0.596284  0.747474 -2.169957  0.173793\n",
       "2016-03-04  0.349248 -1.013605  0.963074 -0.306067\n",
       "2016-03-05  0.981165  0.348213  0.011119  0.721957\n",
       "2016-03-06 -0.576315  1.312909 -0.407155  0.793780"
      ]
     },
     "execution_count": 48,
     "metadata": {},
     "output_type": "execute_result"
    }
   ],
   "source": [
    "import numpy as np\n",
    "data = pd.DataFrame(np.random.randn(6,4), index = datas, columns = list('ABCD'))\n",
    "#data.shape\n",
    "#data.values\n",
    "data"
   ]
  },
  {
   "cell_type": "code",
   "execution_count": 52,
   "metadata": {},
   "outputs": [
    {
     "data": {
      "text/html": [
       "<div>\n",
       "<style scoped>\n",
       "    .dataframe tbody tr th:only-of-type {\n",
       "        vertical-align: middle;\n",
       "    }\n",
       "\n",
       "    .dataframe tbody tr th {\n",
       "        vertical-align: top;\n",
       "    }\n",
       "\n",
       "    .dataframe thead th {\n",
       "        text-align: right;\n",
       "    }\n",
       "</style>\n",
       "<table border=\"1\" class=\"dataframe\">\n",
       "  <thead>\n",
       "    <tr style=\"text-align: right;\">\n",
       "      <th></th>\n",
       "      <th>A</th>\n",
       "      <th>B</th>\n",
       "      <th>C</th>\n",
       "      <th>D</th>\n",
       "    </tr>\n",
       "  </thead>\n",
       "  <tbody>\n",
       "    <tr>\n",
       "      <th>2016-03-05</th>\n",
       "      <td>0.981165</td>\n",
       "      <td>0.348213</td>\n",
       "      <td>0.011119</td>\n",
       "      <td>0.721957</td>\n",
       "    </tr>\n",
       "    <tr>\n",
       "      <th>2016-03-06</th>\n",
       "      <td>-0.576315</td>\n",
       "      <td>1.312909</td>\n",
       "      <td>-0.407155</td>\n",
       "      <td>0.793780</td>\n",
       "    </tr>\n",
       "  </tbody>\n",
       "</table>\n",
       "</div>"
      ],
      "text/plain": [
       "                   A         B         C         D\n",
       "2016-03-05  0.981165  0.348213  0.011119  0.721957\n",
       "2016-03-06 -0.576315  1.312909 -0.407155  0.793780"
      ]
     },
     "execution_count": 52,
     "metadata": {},
     "output_type": "execute_result"
    }
   ],
   "source": [
    "#data.head()\n",
    "data.head(2) #只查看前两行\n",
    "#data.tail()\n",
    "data.tail(2)#只看最后两行"
   ]
  },
  {
   "cell_type": "code",
   "execution_count": 57,
   "metadata": {},
   "outputs": [
    {
     "data": {
      "text/html": [
       "<div>\n",
       "<style scoped>\n",
       "    .dataframe tbody tr th:only-of-type {\n",
       "        vertical-align: middle;\n",
       "    }\n",
       "\n",
       "    .dataframe tbody tr th {\n",
       "        vertical-align: top;\n",
       "    }\n",
       "\n",
       "    .dataframe thead th {\n",
       "        text-align: right;\n",
       "    }\n",
       "</style>\n",
       "<table border=\"1\" class=\"dataframe\">\n",
       "  <thead>\n",
       "    <tr style=\"text-align: right;\">\n",
       "      <th></th>\n",
       "      <th>A</th>\n",
       "      <th>B</th>\n",
       "      <th>C</th>\n",
       "      <th>D</th>\n",
       "    </tr>\n",
       "  </thead>\n",
       "  <tbody>\n",
       "    <tr>\n",
       "      <th>count</th>\n",
       "      <td>6.000000</td>\n",
       "      <td>6.000000</td>\n",
       "      <td>6.000000</td>\n",
       "      <td>6.000000</td>\n",
       "    </tr>\n",
       "    <tr>\n",
       "      <th>mean</th>\n",
       "      <td>-0.319652</td>\n",
       "      <td>0.144424</td>\n",
       "      <td>-0.695438</td>\n",
       "      <td>0.064010</td>\n",
       "    </tr>\n",
       "    <tr>\n",
       "      <th>std</th>\n",
       "      <td>0.947295</td>\n",
       "      <td>1.026036</td>\n",
       "      <td>1.364903</td>\n",
       "      <td>0.625212</td>\n",
       "    </tr>\n",
       "    <tr>\n",
       "      <th>min</th>\n",
       "      <td>-1.803772</td>\n",
       "      <td>-1.217686</td>\n",
       "      <td>-2.532408</td>\n",
       "      <td>-0.819420</td>\n",
       "    </tr>\n",
       "    <tr>\n",
       "      <th>25%</th>\n",
       "      <td>-0.591291</td>\n",
       "      <td>-0.673150</td>\n",
       "      <td>-1.729257</td>\n",
       "      <td>-0.274546</td>\n",
       "    </tr>\n",
       "    <tr>\n",
       "      <th>50%</th>\n",
       "      <td>-0.424133</td>\n",
       "      <td>0.518724</td>\n",
       "      <td>-0.222229</td>\n",
       "      <td>-0.003095</td>\n",
       "    </tr>\n",
       "    <tr>\n",
       "      <th>75%</th>\n",
       "      <td>0.193948</td>\n",
       "      <td>0.732915</td>\n",
       "      <td>-0.000986</td>\n",
       "      <td>0.584916</td>\n",
       "    </tr>\n",
       "    <tr>\n",
       "      <th>max</th>\n",
       "      <td>0.981165</td>\n",
       "      <td>1.312909</td>\n",
       "      <td>0.963074</td>\n",
       "      <td>0.793780</td>\n",
       "    </tr>\n",
       "  </tbody>\n",
       "</table>\n",
       "</div>"
      ],
      "text/plain": [
       "              A         B         C         D\n",
       "count  6.000000  6.000000  6.000000  6.000000\n",
       "mean  -0.319652  0.144424 -0.695438  0.064010\n",
       "std    0.947295  1.026036  1.364903  0.625212\n",
       "min   -1.803772 -1.217686 -2.532408 -0.819420\n",
       "25%   -0.591291 -0.673150 -1.729257 -0.274546\n",
       "50%   -0.424133  0.518724 -0.222229 -0.003095\n",
       "75%    0.193948  0.732915 -0.000986  0.584916\n",
       "max    0.981165  1.312909  0.963074  0.793780"
      ]
     },
     "execution_count": 57,
     "metadata": {},
     "output_type": "execute_result"
    }
   ],
   "source": [
    "data.index #查看行标签\n",
    "data.columns #查看列标签\n",
    "data.describe() #count:几位有效数字 mean:平均值 std:方差 min:最小值 25%：4分位"
   ]
  },
  {
   "cell_type": "code",
   "execution_count": 58,
   "metadata": {},
   "outputs": [
    {
     "data": {
      "text/html": [
       "<div>\n",
       "<style scoped>\n",
       "    .dataframe tbody tr th:only-of-type {\n",
       "        vertical-align: middle;\n",
       "    }\n",
       "\n",
       "    .dataframe tbody tr th {\n",
       "        vertical-align: top;\n",
       "    }\n",
       "\n",
       "    .dataframe thead th {\n",
       "        text-align: right;\n",
       "    }\n",
       "</style>\n",
       "<table border=\"1\" class=\"dataframe\">\n",
       "  <thead>\n",
       "    <tr style=\"text-align: right;\">\n",
       "      <th></th>\n",
       "      <th>2016-03-01 00:00:00</th>\n",
       "      <th>2016-03-02 00:00:00</th>\n",
       "      <th>2016-03-03 00:00:00</th>\n",
       "      <th>2016-03-04 00:00:00</th>\n",
       "      <th>2016-03-05 00:00:00</th>\n",
       "      <th>2016-03-06 00:00:00</th>\n",
       "    </tr>\n",
       "  </thead>\n",
       "  <tbody>\n",
       "    <tr>\n",
       "      <th>A</th>\n",
       "      <td>-0.271952</td>\n",
       "      <td>-1.803772</td>\n",
       "      <td>-0.596284</td>\n",
       "      <td>0.349248</td>\n",
       "      <td>0.981165</td>\n",
       "      <td>-0.576315</td>\n",
       "    </tr>\n",
       "    <tr>\n",
       "      <th>B</th>\n",
       "      <td>-1.217686</td>\n",
       "      <td>0.689236</td>\n",
       "      <td>0.747474</td>\n",
       "      <td>-1.013605</td>\n",
       "      <td>0.348213</td>\n",
       "      <td>1.312909</td>\n",
       "    </tr>\n",
       "    <tr>\n",
       "      <th>C</th>\n",
       "      <td>-0.037302</td>\n",
       "      <td>-2.532408</td>\n",
       "      <td>-2.169957</td>\n",
       "      <td>0.963074</td>\n",
       "      <td>0.011119</td>\n",
       "      <td>-0.407155</td>\n",
       "    </tr>\n",
       "    <tr>\n",
       "      <th>D</th>\n",
       "      <td>-0.179983</td>\n",
       "      <td>-0.819420</td>\n",
       "      <td>0.173793</td>\n",
       "      <td>-0.306067</td>\n",
       "      <td>0.721957</td>\n",
       "      <td>0.793780</td>\n",
       "    </tr>\n",
       "  </tbody>\n",
       "</table>\n",
       "</div>"
      ],
      "text/plain": [
       "   2016-03-01  2016-03-02  2016-03-03  2016-03-04  2016-03-05  2016-03-06\n",
       "A   -0.271952   -1.803772   -0.596284    0.349248    0.981165   -0.576315\n",
       "B   -1.217686    0.689236    0.747474   -1.013605    0.348213    1.312909\n",
       "C   -0.037302   -2.532408   -2.169957    0.963074    0.011119   -0.407155\n",
       "D   -0.179983   -0.819420    0.173793   -0.306067    0.721957    0.793780"
      ]
     },
     "execution_count": 58,
     "metadata": {},
     "output_type": "execute_result"
    }
   ],
   "source": [
    "data.T #转置"
   ]
  },
  {
   "cell_type": "code",
   "execution_count": 66,
   "metadata": {},
   "outputs": [
    {
     "data": {
      "text/html": [
       "<div>\n",
       "<style scoped>\n",
       "    .dataframe tbody tr th:only-of-type {\n",
       "        vertical-align: middle;\n",
       "    }\n",
       "\n",
       "    .dataframe tbody tr th {\n",
       "        vertical-align: top;\n",
       "    }\n",
       "\n",
       "    .dataframe thead th {\n",
       "        text-align: right;\n",
       "    }\n",
       "</style>\n",
       "<table border=\"1\" class=\"dataframe\">\n",
       "  <thead>\n",
       "    <tr style=\"text-align: right;\">\n",
       "      <th></th>\n",
       "      <th>A</th>\n",
       "      <th>B</th>\n",
       "      <th>C</th>\n",
       "      <th>D</th>\n",
       "    </tr>\n",
       "  </thead>\n",
       "  <tbody>\n",
       "    <tr>\n",
       "      <th>2016-03-02</th>\n",
       "      <td>-1.803772</td>\n",
       "      <td>0.689236</td>\n",
       "      <td>-2.532408</td>\n",
       "      <td>-0.819420</td>\n",
       "    </tr>\n",
       "    <tr>\n",
       "      <th>2016-03-03</th>\n",
       "      <td>-0.596284</td>\n",
       "      <td>0.747474</td>\n",
       "      <td>-2.169957</td>\n",
       "      <td>0.173793</td>\n",
       "    </tr>\n",
       "    <tr>\n",
       "      <th>2016-03-06</th>\n",
       "      <td>-0.576315</td>\n",
       "      <td>1.312909</td>\n",
       "      <td>-0.407155</td>\n",
       "      <td>0.793780</td>\n",
       "    </tr>\n",
       "    <tr>\n",
       "      <th>2016-03-01</th>\n",
       "      <td>-0.271952</td>\n",
       "      <td>-1.217686</td>\n",
       "      <td>-0.037302</td>\n",
       "      <td>-0.179983</td>\n",
       "    </tr>\n",
       "    <tr>\n",
       "      <th>2016-03-04</th>\n",
       "      <td>0.349248</td>\n",
       "      <td>-1.013605</td>\n",
       "      <td>0.963074</td>\n",
       "      <td>-0.306067</td>\n",
       "    </tr>\n",
       "    <tr>\n",
       "      <th>2016-03-05</th>\n",
       "      <td>0.981165</td>\n",
       "      <td>0.348213</td>\n",
       "      <td>0.011119</td>\n",
       "      <td>0.721957</td>\n",
       "    </tr>\n",
       "  </tbody>\n",
       "</table>\n",
       "</div>"
      ],
      "text/plain": [
       "                   A         B         C         D\n",
       "2016-03-02 -1.803772  0.689236 -2.532408 -0.819420\n",
       "2016-03-03 -0.596284  0.747474 -2.169957  0.173793\n",
       "2016-03-06 -0.576315  1.312909 -0.407155  0.793780\n",
       "2016-03-01 -0.271952 -1.217686 -0.037302 -0.179983\n",
       "2016-03-04  0.349248 -1.013605  0.963074 -0.306067\n",
       "2016-03-05  0.981165  0.348213  0.011119  0.721957"
      ]
     },
     "execution_count": 66,
     "metadata": {},
     "output_type": "execute_result"
    }
   ],
   "source": [
    "data.sort_index(axis=1,ascending=False) #根据列标签排序（降序）\n",
    "data.sort_index(axis=0,ascending=True) #根据列标签排序（升序）\n",
    "data.sort_values(by='A') #根据A列的数据排序（升序）"
   ]
  },
  {
   "cell_type": "code",
   "execution_count": 72,
   "metadata": {},
   "outputs": [
    {
     "data": {
      "text/html": [
       "<div>\n",
       "<style scoped>\n",
       "    .dataframe tbody tr th:only-of-type {\n",
       "        vertical-align: middle;\n",
       "    }\n",
       "\n",
       "    .dataframe tbody tr th {\n",
       "        vertical-align: top;\n",
       "    }\n",
       "\n",
       "    .dataframe thead th {\n",
       "        text-align: right;\n",
       "    }\n",
       "</style>\n",
       "<table border=\"1\" class=\"dataframe\">\n",
       "  <thead>\n",
       "    <tr style=\"text-align: right;\">\n",
       "      <th></th>\n",
       "      <th>A</th>\n",
       "      <th>B</th>\n",
       "      <th>C</th>\n",
       "      <th>D</th>\n",
       "    </tr>\n",
       "  </thead>\n",
       "  <tbody>\n",
       "    <tr>\n",
       "      <th>2016-03-03</th>\n",
       "      <td>-0.596284</td>\n",
       "      <td>0.747474</td>\n",
       "      <td>-2.169957</td>\n",
       "      <td>0.173793</td>\n",
       "    </tr>\n",
       "    <tr>\n",
       "      <th>2016-03-04</th>\n",
       "      <td>0.349248</td>\n",
       "      <td>-1.013605</td>\n",
       "      <td>0.963074</td>\n",
       "      <td>-0.306067</td>\n",
       "    </tr>\n",
       "  </tbody>\n",
       "</table>\n",
       "</div>"
      ],
      "text/plain": [
       "                   A         B         C         D\n",
       "2016-03-03 -0.596284  0.747474 -2.169957  0.173793\n",
       "2016-03-04  0.349248 -1.013605  0.963074 -0.306067"
      ]
     },
     "execution_count": 72,
     "metadata": {},
     "output_type": "execute_result"
    }
   ],
   "source": [
    "data['A'] #数据选择 选择一个列 或者data.A \n",
    "data[2:4] #选择2-4行\n",
    "data.iloc[2:4] #这个效率比较高，用这个，（iloc）只认数字\n",
    "data['20160302':'20160305'] #按行选择\n",
    "data.loc['20160302':'20160305'] #这个效率比较高，用这个，（loc）只认标签"
   ]
  },
  {
   "cell_type": "code",
   "execution_count": 74,
   "metadata": {},
   "outputs": [
    {
     "data": {
      "text/html": [
       "<div>\n",
       "<style scoped>\n",
       "    .dataframe tbody tr th:only-of-type {\n",
       "        vertical-align: middle;\n",
       "    }\n",
       "\n",
       "    .dataframe tbody tr th {\n",
       "        vertical-align: top;\n",
       "    }\n",
       "\n",
       "    .dataframe thead th {\n",
       "        text-align: right;\n",
       "    }\n",
       "</style>\n",
       "<table border=\"1\" class=\"dataframe\">\n",
       "  <thead>\n",
       "    <tr style=\"text-align: right;\">\n",
       "      <th></th>\n",
       "      <th>B</th>\n",
       "      <th>C</th>\n",
       "    </tr>\n",
       "  </thead>\n",
       "  <tbody>\n",
       "    <tr>\n",
       "      <th>2016-03-02</th>\n",
       "      <td>0.689236</td>\n",
       "      <td>-2.532408</td>\n",
       "    </tr>\n",
       "    <tr>\n",
       "      <th>2016-03-03</th>\n",
       "      <td>0.747474</td>\n",
       "      <td>-2.169957</td>\n",
       "    </tr>\n",
       "    <tr>\n",
       "      <th>2016-03-04</th>\n",
       "      <td>-1.013605</td>\n",
       "      <td>0.963074</td>\n",
       "    </tr>\n",
       "  </tbody>\n",
       "</table>\n",
       "</div>"
      ],
      "text/plain": [
       "                   B         C\n",
       "2016-03-02  0.689236 -2.532408\n",
       "2016-03-03  0.747474 -2.169957\n",
       "2016-03-04 -1.013605  0.963074"
      ]
     },
     "execution_count": 74,
     "metadata": {},
     "output_type": "execute_result"
    }
   ],
   "source": [
    "data.loc[:,['B','C']] #只选择B-C两列的数据\n",
    "data.loc['20160302':'20160304',['B','C']] #选择B-C两列,20160302-0304之间的数据"
   ]
  },
  {
   "cell_type": "code",
   "execution_count": 81,
   "metadata": {},
   "outputs": [
    {
     "data": {
      "text/plain": [
       "0.6892360151598519"
      ]
     },
     "execution_count": 81,
     "metadata": {},
     "output_type": "execute_result"
    }
   ],
   "source": [
    "data.loc['20160302','B'] #获得表格中的具体的一个值\n",
    "data.at[pd.Timestamp('20160302'),'B'] #这个效率更高，用这个，但是得传入时间戳的格式"
   ]
  },
  {
   "cell_type": "code",
   "execution_count": 87,
   "metadata": {},
   "outputs": [],
   "source": [
    "data.iat[0,0]=100 #修改单个数据\n",
    "data.A = range(6) #修改一列数据\n",
    "data.A = 100 #修改一列数据"
   ]
  },
  {
   "cell_type": "code",
   "execution_count": 43,
   "metadata": {},
   "outputs": [
    {
     "data": {
      "text/plain": [
       "{'A': 1,\n",
       " 'B': Timestamp('2020-11-06 00:00:00'),\n",
       " 'C': range(0, 4),\n",
       " 'D': array([0, 1, 2, 3])}"
      ]
     },
     "execution_count": 43,
     "metadata": {},
     "output_type": "execute_result"
    }
   ],
   "source": [
    "d = {'A':1,'B':pd.Timestamp('20201106'),'C':range(4),'D':np.arange(4)}\n",
    "d"
   ]
  },
  {
   "cell_type": "code",
   "execution_count": 45,
   "metadata": {},
   "outputs": [
    {
     "data": {
      "text/html": [
       "<div>\n",
       "<style scoped>\n",
       "    .dataframe tbody tr th:only-of-type {\n",
       "        vertical-align: middle;\n",
       "    }\n",
       "\n",
       "    .dataframe tbody tr th {\n",
       "        vertical-align: top;\n",
       "    }\n",
       "\n",
       "    .dataframe thead th {\n",
       "        text-align: right;\n",
       "    }\n",
       "</style>\n",
       "<table border=\"1\" class=\"dataframe\">\n",
       "  <thead>\n",
       "    <tr style=\"text-align: right;\">\n",
       "      <th></th>\n",
       "      <th>A</th>\n",
       "      <th>B</th>\n",
       "      <th>C</th>\n",
       "      <th>D</th>\n",
       "    </tr>\n",
       "  </thead>\n",
       "  <tbody>\n",
       "    <tr>\n",
       "      <th>0</th>\n",
       "      <td>1</td>\n",
       "      <td>2020-11-06</td>\n",
       "      <td>0</td>\n",
       "      <td>0</td>\n",
       "    </tr>\n",
       "    <tr>\n",
       "      <th>1</th>\n",
       "      <td>1</td>\n",
       "      <td>2020-11-06</td>\n",
       "      <td>1</td>\n",
       "      <td>1</td>\n",
       "    </tr>\n",
       "    <tr>\n",
       "      <th>2</th>\n",
       "      <td>1</td>\n",
       "      <td>2020-11-06</td>\n",
       "      <td>2</td>\n",
       "      <td>2</td>\n",
       "    </tr>\n",
       "    <tr>\n",
       "      <th>3</th>\n",
       "      <td>1</td>\n",
       "      <td>2020-11-06</td>\n",
       "      <td>3</td>\n",
       "      <td>3</td>\n",
       "    </tr>\n",
       "  </tbody>\n",
       "</table>\n",
       "</div>"
      ],
      "text/plain": [
       "   A          B  C  D\n",
       "0  1 2020-11-06  0  0\n",
       "1  1 2020-11-06  1  1\n",
       "2  1 2020-11-06  2  2\n",
       "3  1 2020-11-06  3  3"
      ]
     },
     "execution_count": 45,
     "metadata": {},
     "output_type": "execute_result"
    }
   ],
   "source": [
    "df = pd.DataFrame(d)\n",
    "df"
   ]
  },
  {
   "cell_type": "code",
   "execution_count": 47,
   "metadata": {},
   "outputs": [
    {
     "data": {
      "text/plain": [
       "0    1\n",
       "1    1\n",
       "2    1\n",
       "3    1\n",
       "Name: A, dtype: int64"
      ]
     },
     "execution_count": 47,
     "metadata": {},
     "output_type": "execute_result"
    }
   ],
   "source": [
    "df.dtypes\n",
    "df.A"
   ]
  },
  {
   "cell_type": "code",
   "execution_count": null,
   "metadata": {},
   "outputs": [],
   "source": []
  }
 ],
 "metadata": {
  "kernelspec": {
   "display_name": "Python 3",
   "language": "python",
   "name": "python3"
  },
  "language_info": {
   "codemirror_mode": {
    "name": "ipython",
    "version": 3
   },
   "file_extension": ".py",
   "mimetype": "text/x-python",
   "name": "python",
   "nbconvert_exporter": "python",
   "pygments_lexer": "ipython3",
   "version": "3.6.4"
  }
 },
 "nbformat": 4,
 "nbformat_minor": 2
}
